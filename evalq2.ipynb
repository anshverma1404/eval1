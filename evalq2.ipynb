{
 "cells": [
  {
   "cell_type": "code",
   "execution_count": 14,
   "metadata": {},
   "outputs": [
    {
     "name": "stdout",
     "output_type": "stream",
     "text": [
      "words frequency\n",
      "{'TCS': 1, 'is': 1, 'the': 1, 'largest': 2, 'IT': 1, 'service': 1, 'company': 1, 'in': 2, 'India,': 1, 'headquatered': 1, 'Mumbai,': 1, 'and': 1, 'also': 1, 'employee': 1, 'base': 1}\n",
      "letter frequency\n",
      "{'T': 2, 'C': 1, 'S': 1, 'i': 6, 's': 6, 't': 4, 'h': 2, 'e': 12, 'l': 4, 'a': 10, 'r': 4, 'g': 2, 'I': 2, 'v': 1, 'c': 2, 'o': 3, 'm': 3, 'p': 2, 'n': 5, 'y': 2, 'd': 4, ',': 2, 'q': 1, 'u': 2, 'M': 1, 'b': 2}\n"
     ]
    }
   ],
   "source": [
    "x='TCS is the largest IT service company in India, headquatered in Mumbai, and also largest employee base'\n",
    "z=list(x.split(' '))\n",
    "l={}\n",
    "j={}\n",
    "for word in z:\n",
    "    if word not in l:\n",
    "        l[word]=1\n",
    "    else:\n",
    "        l[word]+=1\n",
    "for word in z:\n",
    "    for char in word:\n",
    "        if char not in j:\n",
    "            j[char]=1\n",
    "        else:\n",
    "            j[char]+=1\n",
    "print('words frequency')        \n",
    "print(l)\n",
    "print('letter frequency')\n",
    "print(j)"
   ]
  },
  {
   "cell_type": "code",
   "execution_count": null,
   "metadata": {},
   "outputs": [],
   "source": []
  },
  {
   "cell_type": "code",
   "execution_count": null,
   "metadata": {},
   "outputs": [],
   "source": []
  }
 ],
 "metadata": {
  "kernelspec": {
   "display_name": "Python 3",
   "language": "python",
   "name": "python3"
  },
  "language_info": {
   "codemirror_mode": {
    "name": "ipython",
    "version": 3
   },
   "file_extension": ".py",
   "mimetype": "text/x-python",
   "name": "python",
   "nbconvert_exporter": "python",
   "pygments_lexer": "ipython3",
   "version": "3.7.3"
  }
 },
 "nbformat": 4,
 "nbformat_minor": 2
}
